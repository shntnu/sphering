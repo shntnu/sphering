{
 "cells": [
  {
   "cell_type": "code",
   "execution_count": 53,
   "metadata": {},
   "outputs": [],
   "source": [
    "import numpy as np\n",
    "import pandas as pd\n",
    "from scipy.linalg import eigh"
   ]
  },
  {
   "cell_type": "code",
   "execution_count": 54,
   "metadata": {},
   "outputs": [],
   "source": [
    "# X is a matrix of size (n, d)\n",
    "# n is the number of samples\n",
    "# d is the number of features\n",
    "n = 100\n",
    "d = 10\n",
    "X = np.random.randn(n, d)\n",
    "\n",
    "epsilon = 1e-6"
   ]
  },
  {
   "cell_type": "code",
   "execution_count": 55,
   "metadata": {},
   "outputs": [],
   "source": [
    "mu = X.mean()\n",
    "X = X - mu\n",
    "\n",
    "def f1(X):\n",
    "    N = X.shape[0]\n",
    "    _, Sigma, Vt = np.linalg.svd(X, full_matrices=False)\n",
    "    s = (Sigma ** 2) / N\n",
    "    # compute transpose of Vt\n",
    "    return s[::-1], Vt.transpose()[:, ::-1]\n",
    "    # return s, Vt.transpose()\n",
    "\n",
    "def f2(X):\n",
    "    C = (1 / X.shape[0]) * np.dot(X.transpose(), X)\n",
    "    s, E = eigh(C)\n",
    "    return s, E\n",
    "\n",
    "def sign_ambiguity(E):\n",
    "    return pd.DataFrame(E * np.sign(np.diag(E)))\n",
    "\n",
    "s1, E1 = f1(X)\n",
    "s2, E2 = f2(X)\n",
    "\n",
    "E1 = sign_ambiguity(E1)\n",
    "E2 = sign_ambiguity(E2)\n"
   ]
  },
  {
   "cell_type": "code",
   "execution_count": 56,
   "metadata": {},
   "outputs": [
    {
     "name": "stdout",
     "output_type": "stream",
     "text": [
      "Are eigenvalues almost equal? True\n",
      "Are eigenvectors almost equal? True\n"
     ]
    }
   ],
   "source": [
    "print(\"Are eigenvalues almost equal?\", np.allclose(s1, s2))\n",
    "\n",
    "print(\"Are eigenvectors almost equal?\", np.allclose(E1.values.flatten(), E2.values.flatten()))"
   ]
  },
  {
   "cell_type": "code",
   "execution_count": 115,
   "metadata": {},
   "outputs": [
    {
     "name": "stdout",
     "output_type": "stream",
     "text": [
      "Is the first r rows and columns of C the identity matrix? True\n",
      "Is the last d-r rows and columns of C the zero matrix? True\n"
     ]
    }
   ],
   "source": [
    "\n",
    "import numpy as np\n",
    "n = 5 \n",
    "d = 9\n",
    "X = np.random.randn(n, d)\n",
    "mu = X.mean(axis=0)\n",
    "X = X - mu\n",
    "epsilon = 1e-6\n",
    "N = X.shape[0]\n",
    "_, Sigma, Vt = np.linalg.svd(X, full_matrices=True)\n",
    "\n",
    "# compute the rank of the matrix X\n",
    "r = np.linalg.matrix_rank(X)\n",
    "\n",
    "assert (r == n - 1) | (r == d), \"X is not full rank\"\n",
    "\n",
    "# if n <= d then Sigma has shape (n,) so it will need to be expanded to do and filled with the \n",
    "# values of the last element of Sigma\n",
    "if n <= d:\n",
    "    assert Sigma.shape[0] == n\n",
    "    assert (r == n - 1)\n",
    "    Sigma = np.concatenate((Sigma[0:r], np.repeat(Sigma[r-1], d-r)))\n",
    "\n",
    "W = (Vt / Sigma[:, np.newaxis]).transpose() * np.sqrt(N-1)\n",
    "Xw = X @ W\n",
    "\n",
    "# Compute the covariance matrix of Xw\n",
    "C = np.dot(Xw.transpose(), Xw) / (N-1)\n",
    "\n",
    "if r == d:\n",
    "    print(\"Is C the identity matrix?\", np.allclose(C, np.eye(d)))\n",
    "    print(\"Is C a diagonal matrix?\", np.allclose(C, np.diag(np.diag(C))))\n",
    "else:\n",
    "    print(\"Is the first r rows and columns of C the identity matrix?\", np.allclose(C[0:r, 0:r], np.eye(r)))\n",
    "    print(\"Is the last d-r rows and columns of C the zero matrix?\", np.allclose(C[r:, r:], np.zeros((d-r, d-r))))\n",
    "\n"
   ]
  },
  {
   "cell_type": "code",
   "execution_count": 55,
   "metadata": {},
   "outputs": [
    {
     "name": "stdout",
     "output_type": "stream",
     "text": [
      "Are A and B almost equal? True\n"
     ]
    }
   ],
   "source": [
    "A = Vt.transpose() @ np.diag(1 / Sigma)\n",
    "B = (Vt / Sigma[:, np.newaxis]).transpose()\n",
    "print(\"Are A and B almost equal?\", np.allclose(A, B))\n",
    "# But method B is more efficient than method A so that's what we do in practice"
   ]
  },
  {
   "cell_type": "code",
   "execution_count": 58,
   "metadata": {},
   "outputs": [
    {
     "name": "stdout",
     "output_type": "stream",
     "text": [
      "Is the covariance matrix of Zs1 the identity matrix? True\n",
      "Is the covariance matrix of Xs2 the identity matrix? True\n",
      "Is the covariance matrix of Ys2 the identity matrix? True\n"
     ]
    }
   ],
   "source": [
    "import numpy as np\n",
    "import pandas as pd\n",
    "# X is a matrix of size (n, d)\n",
    "# n is the number of samples\n",
    "# d is the number of features\n",
    "n = 100\n",
    "d = 10\n",
    "X = np.random.randn(n, d)\n",
    "Y = np.random.randn(n, d)\n",
    "# select the last 20 samples as the reference population\n",
    "Xc = X[-20:, :]\n",
    "Yc = Y[-20:, :]\n",
    "\n",
    "epsilon = 1e-6\n",
    "\n",
    "Zc = np.concatenate((Xc, Yc), axis=0)\n",
    "# cast as a dataframe\n",
    "Zc = pd.DataFrame(Zc)\n",
    "\n",
    "from pycytominer.operations.transform import Spherize\n",
    "\n",
    "scalerZ = Spherize(method=\"PCA\", center=True)\n",
    "scalerZ = scalerZ.fit(Zc)\n",
    "Zcs1 = scalerZ.transform(Zc)\n",
    "\n",
    "# verify that Zs1 has identity covariance matrix\n",
    "print(\"Is the covariance matrix of Zs1 the identity matrix?\", np.allclose(Zcs1.cov(), np.eye(d)))\n",
    "\n",
    "# Now get back the original Xc and Yc\n",
    "# Use the size of Xc and Yc to slice Zs to get back Xs and Ys\n",
    "Xcs1 = Zcs1.iloc[:Xc.shape[0], :]\n",
    "Ycs1 = Zcs1.iloc[Xc.shape[0]:, :]\n",
    "\n",
    "# now compute scalers for Xs and Ys\n",
    "scalerX = Spherize(method=\"PCA\", center=True)\n",
    "scalerX = scalerX.fit(Xcs1)\n",
    "scalerY = Spherize(method=\"PCA\", center=True)\n",
    "scalerY = scalerY.fit(Ycs1)\n",
    "\n",
    "# now transform X and Y\n",
    "Xcs2 = scalerX.transform(Xcs1)\n",
    "Ycs2 = scalerY.transform(Ycs1)\n",
    "\n",
    "# verify that Xs2 and Ys2 have identity covariance matrices\n",
    "print(\"Is the covariance matrix of Xs2 the identity matrix?\", np.allclose(Xcs2.cov(), np.eye(d)))\n",
    "print(\"Is the covariance matrix of Ys2 the identity matrix?\", np.allclose(Ycs2.cov(), np.eye(d)))\n",
    "\n",
    "# Now transform all rows of X and Y\n",
    "Xs1 = scalerZ.transform(pd.DataFrame(X))\n",
    "Xs2 = scalerX.transform(Xs1)\n",
    "\n",
    "Ys1 = scalerZ.transform(pd.DataFrame(Y))\n",
    "Ys2 = scalerY.transform(Ys1)\n"
   ]
  }
 ],
 "metadata": {
  "kernelspec": {
   "display_name": "pycytominer-2Xhc-POW",
   "language": "python",
   "name": "python3"
  },
  "language_info": {
   "codemirror_mode": {
    "name": "ipython",
    "version": 3
   },
   "file_extension": ".py",
   "mimetype": "text/x-python",
   "name": "python",
   "nbconvert_exporter": "python",
   "pygments_lexer": "ipython3",
   "version": "3.10.12"
  },
  "orig_nbformat": 4
 },
 "nbformat": 4,
 "nbformat_minor": 2
}
